{
 "cells": [
  {
   "cell_type": "code",
   "execution_count": 2,
   "id": "8237f16f",
   "metadata": {
    "scrolled": true
   },
   "outputs": [
    {
     "name": "stdout",
     "output_type": "stream",
     "text": [
      "4\n",
      "12\n",
      "20\n",
      "[8.0, 16.0, 12.0]\n",
      "[12.0, 14.0, 10.0]\n",
      "[13.0, 12.0, 11.0]\n",
      "Final Score is = 3\n"
     ]
    }
   ],
   "source": [
    "l=[int(input()) for x in range(3)]\n",
    "l\n",
    "def game(l):\n",
    "    score=0\n",
    "    while True:\n",
    "        p=(l[0]+l[1])/2\n",
    "        q=(l[1]+l[2])/2\n",
    "        r=(l[2]+l[0])/2\n",
    "        for x in l:\n",
    "            if x%2!=0:\n",
    "                return score\n",
    "        l[0]=p\n",
    "        l[1]=q\n",
    "        l[2]=r\n",
    "        score+=1\n",
    "        print(l)\n",
    "        \n",
    "print('Final Score is =',game(l))"
   ]
  },
  {
   "cell_type": "code",
   "execution_count": null,
   "id": "f915a6a4",
   "metadata": {},
   "outputs": [],
   "source": []
  }
 ],
 "metadata": {
  "kernelspec": {
   "display_name": "Python 3 (ipykernel)",
   "language": "python",
   "name": "python3"
  },
  "language_info": {
   "codemirror_mode": {
    "name": "ipython",
    "version": 3
   },
   "file_extension": ".py",
   "mimetype": "text/x-python",
   "name": "python",
   "nbconvert_exporter": "python",
   "pygments_lexer": "ipython3",
   "version": "3.9.7"
  }
 },
 "nbformat": 4,
 "nbformat_minor": 5
}
